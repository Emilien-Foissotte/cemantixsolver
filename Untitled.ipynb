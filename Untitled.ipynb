{
 "cells": [
  {
   "cell_type": "code",
   "execution_count": 12,
   "id": "628790ea-cf8d-43a9-a167-67e4fdc21c9e",
   "metadata": {},
   "outputs": [],
   "source": [
    "import gensim\n",
    "import requests"
   ]
  },
  {
   "cell_type": "code",
   "execution_count": 2,
   "id": "ecdcd567-7a4e-4dba-b459-3c78755b09fe",
   "metadata": {},
   "outputs": [],
   "source": [
    "from gensim.models import KeyedVectors"
   ]
  },
  {
   "cell_type": "code",
   "execution_count": 42,
   "id": "f114bffd-8fd7-4209-85f9-87d9a55ebaa2",
   "metadata": {},
   "outputs": [
    {
     "name": "stdout",
     "output_type": "stream",
     "text": [
      "frWac_no_postag_phrase_500_cbow_cut100.bin   nohup.out  Pipfile.lock\n",
      "frWac_postag_no_phrase_1000_skip_cut100.bin  Pipfile    Untitled.ipynb\n"
     ]
    }
   ],
   "source": [
    "!ls"
   ]
  },
  {
   "cell_type": "code",
   "execution_count": 34,
   "id": "0d5178f1-3bae-4698-b065-6ab1a95f30e6",
   "metadata": {},
   "outputs": [],
   "source": [
    "model = KeyedVectors.load_word2vec_format(\"frWac_no_postag_phrase_500_cbow_cut100.bin\", binary=True, unicode_errors=\"ignore\")"
   ]
  },
  {
   "cell_type": "code",
   "execution_count": 43,
   "id": "039a3f1c-6f3d-4134-b588-13ef2442e12b",
   "metadata": {},
   "outputs": [],
   "source": [
    "model2 = KeyedVectors.load_word2vec_format(\"frWac_postag_no_phrase_1000_skip_cut100.bin\", binary=True, unicode_errors=\"ignore\")"
   ]
  },
  {
   "cell_type": "code",
   "execution_count": 47,
   "id": "618445d6-eef6-4401-94a6-e86ea3201e1d",
   "metadata": {},
   "outputs": [
    {
     "name": "stdout",
     "output_type": "stream",
     "text": [
      "[('salaire', 0.662523627281189), ('salariat', 0.6246270537376404), ('politique_salarial', 0.6028499007225037), ('modération_salarial', 0.5875091552734375), ('augmentation_salarial', 0.5611657500267029), ('négociation_salarial', 0.5539078116416931), ('patronal', 0.5507570505142212), ('politiques_salarial', 0.5500107407569885), ('revenu_salarial', 0.5452414155006409), ('bas_salaire', 0.5364496111869812)]\n"
     ]
    }
   ],
   "source": [
    "print(model.similar_by_word(\"salarial\"))"
   ]
  },
  {
   "cell_type": "code",
   "execution_count": 90,
   "id": "91a863b8-0ede-4a55-9432-a69d1b24244f",
   "metadata": {
    "collapsed": true,
    "jupyter": {
     "outputs_hidden": true
    },
    "tags": []
   },
   "outputs": [
    {
     "data": {
      "text/plain": [
       "[('me', 0.9211546182632446),\n",
       " ('moi', 0.7895336151123047),\n",
       " ('cela', 0.7631753087043762),\n",
       " ('mien', 0.7599182724952698),\n",
       " (\"quelqu'un\", 0.747458279132843),\n",
       " ('penser', 0.7440645098686218),\n",
       " ('vraiment', 0.7405228614807129),\n",
       " ('lui', 0.7387736439704895),\n",
       " ('dire', 0.7299396395683289),\n",
       " ('vouloir', 0.718044102191925),\n",
       " ('voilà', 0.716428816318512),\n",
       " ('quand_même', 0.7146612405776978),\n",
       " ('aimer', 0.7146443724632263),\n",
       " ('désoler', 0.7070793509483337),\n",
       " ('me_sentir', 0.7067210078239441),\n",
       " ('te', 0.7057567834854126),\n",
       " ('avouer', 0.7049519419670105),\n",
       " ('quand', 0.6976209282875061),\n",
       " ('me_rendre_compter', 0.6953749060630798),\n",
       " ('là', 0.6899712681770325),\n",
       " ('tellement', 0.6895365118980408),\n",
       " ('sinon', 0.6887843608856201),\n",
       " ('me_plaire', 0.6863610744476318),\n",
       " ('tien', 0.6851847171783447),\n",
       " ('taire', 0.685072660446167)]"
      ]
     },
     "execution_count": 90,
     "metadata": {},
     "output_type": "execute_result"
    }
   ],
   "source": [
    "model.most_similar(\"je\", topn=25, restrict_vocab=15000)"
   ]
  },
  {
   "cell_type": "code",
   "execution_count": 89,
   "id": "88308417-ca97-4249-ab95-c100be12e568",
   "metadata": {
    "collapsed": true,
    "jupyter": {
     "outputs_hidden": true
    },
    "tags": []
   },
   "outputs": [
    {
     "name": "stdout",
     "output_type": "stream",
     "text": [
      "['avoir', 'je', 'on', 'mais', 'lui', 'bien', 'aller', 'voir', 'dire', 'y', 'cela', 'très', 'bon', 'après', 'petit', 'me', 'dernier', 'passer', 'encore', 'venir', 'quelque', 'toujours', 'alors', 'quand', 'là', 'déjà', 'rien', 'beaucoup', 'beau', 'moment', 'enfin', 'laisser', 'film', 'aimer', 'jamais', 'chose', 'arriver', 'attendre', 'croire', 'retrouver', 'mal', 'découvrir', 'commencer', 'fois', 'côté', 'vrai', 'revenir', 'plein', 'sortir', 'sembler', 'vraiment', 'ami', 'tour', 'quoi', 'juste', 'ailleurs', 'coup', 'prochain', 'assez', 'tête', 'maintenant', 'nuit', 'gros', 'pourtant', 'annoncer', 'peut-être', 'oublier', 'regarder', 'finir', 'scène', 'voici', 'plutôt', 'malgré', 'voilà', 'soir', 'réussir', 'matin', 'fille', 'espérer', 'plaisir', 'envie', 'presque', 'saison', 'final', 'sentir', 'manquer', 'bref', 'profiter', 'préférer', 'tomber', 'souvenir', 'soirée', 'vite', 'terminer', 'match', 'bientôt', 'album', 'longtemps', 'finalement', 'course', 'imaginer', 'arrivée', 'remarquer', 'excellent', 'quand_même', 'hier', 'cacher', 'victoire', 'raconter', 'bonheur', 'derrière', 'heureux', 'super', 'aventure', 'sûr', 'rentrer', 'adorer', 'morceau', 'tellement', 'rire', 'magnifique', 'noël', 'truc', 'sourire', 'joie', 'habitude', 'fou', 'pire', 'week-end', 'cadeau', 'joli', 'malheureusement', 'certainement', 'promettre', 'épisode', 'coin', 'ressembler', 'superbe', 'fameux', 'ambiance', 'émotion', 'loin', 'instant', 'lol', 'contenter', 'bravo', 'hasard', 'avouer', 'ah', 'ben', 'emporter', 'rêver', 'oser', 'humour', 'inconnu', 'voiler', 'fan', 'lendemain', 'agréable', 'énorme', 'quelque_jours', 'apercevoir', 'dame', 'approcher', 'étrange', 'sympa', 'amoureux', 'spectateur', 'heureusement', 'étonner', 'surprendre', 'regretter', 'pareil', 'douter', 'plonger', 'boulot', 'amuser', 'refaire', 'dévoiler', 'top', 'repartir', 'mystère', 'drôle', 'triste', 'extraordinaire', 'mari', 'fêter', 'étonnant', 'franchement', 'glisser', 'terrible', 'curieux', 'ça', 'rassurer', 'emmener', 'merveilleux', 'décevoir', 'très_vite', 'content', 'oh', 'sûrement', 'gentil', 'star', 'magique', 'etait', 'tien', 'plaire', 'rater', 'forcément', 'accrocher', 'dîner', 'réveiller', 'hein', 'désoler', 'papa', 'admirer', 'incroyable', 'copain', 'formidable', 'hésiter', 'génial', 'hélas', 'quasiment', 'quoique', 'aussitôt', 'goûter', 'impressionnant', 'jeune_femme', 'surprenant', 'habituer', 'celui-là', 'merveille', 'sympathique', 'apparemment', 'vainqueur', 'soudain', 'lâcher', 'curiosité', 'hier_soir', 'ravir', 'gars', 'quelque_minute', 'mystérieux', 'gâteau', 'révélation', 'fantastique', 'bizarre', 'amie', 'pleuvoir', 'me_souvenir', 'cool', 'favori', 'cousin', 'duo', 'enthousiasme', 'tard', 'sonner', 'fatiguer', 'tranquille', 'débarquer', 'week_end', 'copine', 'passionnant', 'doucement', 'live', 'détour', 'déguster', 'tarder', 'décrocher', 'promener', 'eh_bien', 'enchaîner', 'surement', 'pote', 'deviner', 'vivement', 'disputer', 'bise', 'visiblement', 'venue', 'entendre_parler', 'précipiter', 'inattendu', 'regret', 'insolite', 'joyeux', ':-)', 'félicitation', 'gamin', 'craquer', 'émouvoir', 'rigoler', 'charmant', 'déception', 'filer', 'décidément', 'banal', 'ennuyer', 'exploit', 'délicieux', 'anecdote', 'dessert', 'blague', 'se_apprêter', 'amusant', 'énerver', 'ce_fois-ci', 'bouquin', 'fabuleux', 'après_midi', 'bousculer', 'duel', 'intrigue', 'ballade', 'alex', 'hop', 'arrivé', 'panique', 'impressionner', 'trio', 'chouette', 'très_joli', 'faillir', 'bon_humeur', 'timide', 'carrément', 'podium', 'ouf', 'effrayer', 'tranquillement', 'parier', 'coulisse', 'trembler', 'p_tit', 'casting', 'marrant', 'show', 'tant_pis', 'emballer', 'miss', 'jusque_là', 'splendide', 'lasser', 'fun', 'opus', 'enchanter', 'improviser', 'hum', 'ah_oui', 'tant_mieux', 'eh_oui', 'avec_impatience', 'vendredi_soir', 'chéri', 'samedi_soir', 'très_agréable', 'croisé', 'brin', 'verdict', 'foulée', 'rentrer_chez', 'savourer', 'coincer', 'ce_jour-là', 'improbable', 'bleus', 'laisser_tomber', 'mignon', 'rigolo', 'quelque_instant', 'inoubliable', 'demi-heure', 'demi-finale', 'enthousiaste', 'délice', 'adorable', 'dimanche_soir', 'émouvant', 'suspense', 'grandiose', 'louper', 'devancer', 'applaudir', 'suspens', 'savoureux', 'marrer', 'inhabituel', 'imprévu', 'désagréable', 'étonnement', 'nana', 'empresser', 'balader', 'régaler', 'très_sympa', 'bonhomme', 'somptueux', 'guetter', 'frisson', 'gâcher', 'entrain', 'ben_oui', 'hésitation', 'demoiselle', 'impatient', 'compliment', 'patienter', 'intriguer', 'hâter', 'reparler', 'plaisant', 'curieusement', 'dimanche_matin', 'furieux', 'agacer', 'dingue', 'gentiment', 'anodin', 'impeccable', 'jeudi_soir', 'discrètement', 'concocter', 'maladroit', 'émerveiller', 'décevant', 'trop_tôt', 'atterrir', 'coéquipier', 'interminable', 'trouvaille', 'soulagement', 'hâte', 'impatience', 'frôler', 'étai', 'souriant', 'enfin_bref', 'rebondissement', 'ennuyeux', 'réveillon', 'avant-première', 'brusquement', 'troublant', 'frustrer', 'dénicher', 'délirant', 'bon_nouvelle', 'ce_mois-ci', 'cinq_minute', 'claque', 'gâter', 'connaisseur', 'péripétie', 'habitué', 'bagarre', 'scoop', 'feuilleter', 'apéro', 'plaisanter', 'confidence', 'thriller', 'bondir', 'dix_minute', 'retrouvaille', 'attachant', 'coup_sûr', 'soudainement', 'convive', 'pas_grand-chose', 'bouder', 'éblouir', 'affoler', 'bizarrement', 'préparatif', 'nul_doute', 'remake', 'mémorable', 'héhé', 'coquin', 'tournure', 'matinal', 'étrangement', 'trailer', 'régal', 'sitôt', 'gag', 'replonger', 'ce_fois_ci', 'dénouement', 'subitement', 'vaguement', 'bande_annoncer', 'bavard', 'excitant', 'chouchou', 'lendemain_matin', 'mouvementer', 'zapper', 'cachette', 'captiver', 'haleine', 'flipper', 'euphorie', 'chanceux', 'hallucinant', 'fiancée', 'papille', 'prétendant', 'hier_matin', 'alléchant', 'demain_matin', 'déboire', 'prouesse', 'émerveillement', 'mitiger', 'croustillant', 'énième', 'pépite', 'magnifiquement', 'enthousiasmer', 'passer_inaperçu', 'réjouissant', 'émoi', 'avec_brio', 'déjanter', 'mésaventure', 'malice', 'gogo', 'incroyablement', 'ravissant', 'éblouissant', 'choir', 'hilarant', 'paniquer', 'époustouflant', 'angoissant', 'rassurer_-vous', 'aller_cll', 'farfelu', 'cartonner', 'se_exclamer', 'dérouter', 'stupeur', 'déambuler', 'redemander', 'mauvais_surprise', 'découdre', 'frayeur', 'épater', 'ce_jours-ci', 'fou_rire', 'croire_-moi', 'grimace', 'bouchée', 'hate', 'captivant', 'apprêter', 'joliment', 'rentraire', 'juste_derrière', 'petit_bijou', 'bluffer', 'déroutant', 'fuser', 'petit_bonhomme', 'agréablement', 'vraiment_sympa', 'frissonner', 'souper', 'perplexe', 'palpitant', 'compère', 'demain_soir', 'incongru', 'boum', 'laisser_présager', 'éclipser', 'hé_oui', 'étonnamment', 'aprem', 'acolyte', 'joyeusement', 'impressionant', 'bourre', 'superbement', 'admiratif', 'stupéfait', 'malchance', 'ce_soir-là', 'ce_temps-ci', 'pétillant', 'gratifier', 'scotcher', 'dimanche_après-midi', 'hé_bien', 'grand-chose', 'tout_bonnement', 'rigolade', 'youpi', 'envoûter', 'décidemment', 'flop', 'fraicheur', 'papoter', 'sans_hésitation', 'moult', 'succulent', 'apothéose', 'accrocheur', 'pagaille', 'sensationnel', 'préféré', 'délecter', 'premier_opus', 'jubilatoire', 'sagement', 'tomber_dessus', 'fébrile', 'cocasse', 'réjouissance', 'shrek', 'titiller', 'malicieux', 'blaser', 'débouler', 'déconcertant', 'déballer', 'bonder', 'chambouler', 'divertissant', 'frustrant', 'stupéfaction', 'inespéré', 'jouissif', 'sursauter', 'virée', 'outsider', 'enjouer', 'frangin', 'déconvenue', 'pimenter', 'impromptu', 'of_course', 'bougre', 'vraiment_génial', 'dubitatif', 'st_valentin', 'aficionado', 'lorgner', 'déconcerter', 'accroc', 'très_vit', 'inaperçu', 'trombe', 'me_lasser', 'avant-goût', 'accoutumée', 'augurer', 'pû', 'sacrément', 'appétissant', 'fin_après_midi', 'favorite', 'bide', 'hier_après-midi', 'danny', 'pirouette', 'fiston', 'dépayser', 'tantinet', 'intrigant', 'drôlement', 'sympatique', 'délicieusement', 'agacement', 'rager', 'jubilation', 'nenni', 'fort_sympathique', 'bon_augure', 'énervement', 'joli_fille', 'hé_hé', 'quiproquo', 'laisser_deviner', 'seul_bémol', 'ravissement', 'dépiter', 'haletant', 'trotter', 'come-back', 'malgrè', 'jubiler', 'virevolter', 'pur_bonheur', 'comparse', 'badaud', 'revoilà', 'pétiller', 'très_émouvant', 'agréablement_surprendre', 'vrai_régal', 'bouille', 'dernier_opus', 'épatant', 'abasourdir', 'aparté', 'endiabler', 'énorme_succès', 'course_poursuite', 'enthousiasmant', 'improviste', 'score_final', 'facétieux', 'plutôt_sympa', 'craquant', 'sidérer', 'sans_encombre', 'scénaristique', 'bien_ficeler', 'salle_obscur', 'se_impatienter', 'laisser_perplexe', 'all_blacks', 'euphorique', 'tonitruant', 'attendre_patiemment', 'ébahir', 'hi_hi_hi', 'poisse', 'détonner', 'poussif', 'seul_regret', 'pressentiment', 'guest', 'sautiller', 'waouh', 'malin_plaisir', 'deux_compère', 'décidement', 'enchaine', 'étoile_filant', 'gentillement', 'survolter', 'décoiffer', 'comédie_romantique', 'flashback', 'seul_hic', 'humm', 'ribambelle', 'assez_surprenant', 'bousculade', 'supers', 'faire_pâlir', 'incognito', 'ha_oui', 'gaiement', 'nous_gratifier', 'dépaysant', 'farceur', 'ce_deux-là', 'décu', 'facétie', 'méchamment', 'exulter', 'interloquer', 'rhabiller', 'moue', 'va-vite', 'cogiter', 'petit_bémol', 'nanar', 'vers_minuit', 'veinard', 'kyrielle', 'promis', 'héhéhé', 'totalement_inconnu', 'assez_impressionnant', 'pur_merveille', 'rentrer_dedans', 'trépidant', 'frenchie', 'fatidique', 'confortablement_installer', 'patrick_bruel', 'teasing', 'voix_féminin', 'attendre_impatiemment', 'rocambolesque', 'cannois', 'silvio', 'ovation', 'happy_end', 'méconnaissable', 'sorti', 'fracassant', 'finallement', 'tombeur', 'dancefloor', 'époustoufler', 'flancher', 'ferme_intention', 'très_attachant', 'commencait', 'woody', 'cafouillage', 'engueulade', 'gacher', 'tension_monter', 'fournée', 'me_déplaire', 'ce_côté-là', 'rythme_effréné', 'mitonner', 'se_extasier', 'flirter', 'croustiller', 'méduser', 'konami', 'demie_heure', 'truculent', 'maestria', 'sueur_froid', 'simplement_génial', 'trépigner', 'finish', 'jo-_wilfried_tsonga', 'tien_tien', 'désopilant', 'sifflet_final', 'kitch', 'par-ci_par-là', 'dégoter', 'triplé', 'himself', 'gros_déception', 'cavalcade', 'fébrilité', 'hilare', 'laisser_augurer', 'contre-performance', 'célébrissime', 'ahhhh', 'mercotte', 'renversant', 'farfouiller', 'avec_délectation', 'furtivement', 'complètement_fou', 'damned', 'new_yorkais', 'pluie_battant', 'blondinet', 'nonchalance', 'deception', 'étourdissant', 'flash_back', 'bof_bof', 'mauvais_nouvelle', 'attendrissant', 'morning', 'ce_matin-là', 'deçu', 'apperçu', 'wouah', 'plateau_télé', 'come_back', 'dulcinée', 'vadrouille', 'peu_convaincant', 'immense_plaisir', 'roxy', 'ce_coup-ci', 'envoutant', 'personnage_attachant', 'troisième_opus', 'rafraichissant', 'soleil_radieux', 'royalement', 'soporifique', 'grisant', 'avouer_-le', 'pop_corn', 'bourrique', 'fringant', 'véloce', 'cador', 'instant_magique', 'miniloup', 'best-of', 'heureux_gagnant', 'énième_fois', 'rudement', 'guest_star', 'direct_live', 'désarçonner', 'blind_test', 'délurer', 'génialissime', 'gent_féminin', 'raclée', 'jeune_demoiselle', 'scénar', 'premier_loge', 'tristounet', 'remixe', 'douche_froid', 'pimpant', 'déjà-vu', 'triplette', 'saliver', 'amadouer', 'dantesque', 'moindre_recoin', 'sauter_dessus', 'pur_hasard', 'visiteuse', 'agréable_surprise', 'mario_kart', 'diablement', 'rouquin', 'joli_cadeau', 'ricky', 'sans_crier_gare', 'frétiller', 'commentaire_commentaire_catégories', 'victuaille', 'entêtant', 'toquer', 'râté', 'haut_volée', 'marc_lièvremont', 'enchainé', 'bras_ouvert', 'claire-marie', 'mirette', 'décontenancer', 'imagination_débordant', 'impec', 'sophie_marceau', 'surexciter', 'bouchée_double', 'super_bowl', 'brokeback_mountain', 'faire_saliver', 'bafouiller', 'frénétiquement', 'sympatoche', 'mylo', 'volubile', 'chiper', 'dépêcher_-vous', 'requinquer', 'déhancher', 'excellentissime', 'allécher', 'kirsten_dunst', 'nul_douter', 'rebelote', 'immense_talent', 'jack_sparrow', 'trottiner', 'patriot', 'plutôt_sympathique', 'montagne_russe', 'délectable', 'flopée', 'bredouille', 'assez_marrant', 'hayden', 'co-_équipier', 'deuxième_opus', 'bree', 'immanquable', 'bloggeuse', 'faiblard', 'siffloter', 'rempiler', 'assez_tard', 'faufiler', 'jusque_là_rien', 'grand_rex', 'petit_culotte', 'kad', 'léger_sourire', 'fêter_dignement', 'super_génial', 'malicieusement', 'flegme', 'guichet_fermer', 'laisser_pantois', 'agréablement_surprise', 'attendre_sagement', 'pas_démériter', 'détonant', 'émoustiller', 'josé_garcia', 'denzel_washington', 'se_enchainent', 'pitrerie', 'caracoler', 'jude_law', 'principal_rival', 'repasser_devant', 'méli-mélo', 'amourette', 'se_raviser', 'redif', 'bouquet_final', 'précédent_opus', 'julia_roberts', 'démériter', 'bonhomie', 'dimanche_après_midi', 'hilarité', 'bidonner', 'épisode_inédit', 'yeux_ébahir', 'cameron_diaz', 'tant_convoiter', 'hugh_grant', 'souvenir_impérissable', 'retrouver_coincer', 'retenter', 'baveux', 'garnement', 'totoro', 'suprise', 'patatras', 'deviner_quoi', 'demie-heure', 'second_opus', 'absolument_magnifique', 'inopinément', 'jodie_foster', 'traquenard', 'nunuche', 'frère_coen', 'jeunot', 'ce_coup-là', 'acteur_fétiche', 'assez_banal', 'gentillet', 'trouble-fête', 'frenchy', 'dithyrambique', 'clint', 'mrchéri', 'ovationner', 'number_one', 'parfait_inconnu', 'tant_redouter', 'next-gen', 'impatienter', 'frousse', 'meilleur_auspice', 'grappiller', 'bridget_jones', 'appercevoir', 'guilleret', 'admiration_devant', 'étriller', 'lloris', 'super_content', 'rumeur_circuler', 'tragi-comique', 'édition_collector', 'glousser', 'rentrer_tard', 'vrai_délice', 'deux-trois', 'rondement_mener', 'sautillant', 'me_dépêcher', 'valérie_lemercier', 'ennuyant', 'journée_ensoleiller', 'bioshock', 'rythme_endiabler', 'petitou', 'embrassade', 'cow_boy', 'bluffant', 'gimmick', 'daniel_radcliffe', 'franc_rigolade', 'mériter_amplement', 'glaçant', 'survitaminer', 'trainait', 'dernier_préparatif', 'succès_escompter', 'poiler', 'hop_hop_hop', 'revoici', 'lourdingu', 'culotter', 'se_trémousser', 'classieux', 'jessica_alba', 'monsieur_patate', 'chaise_musical', 'rester_perplexe', 'rester_bouche_béer', 'régaler_-vous', 'étrenner', 'poireauter', 'monty_python', 'facilité_déconcertant', 'zest', 'ewan_mcgregor', 'fureter', 'marmaille', 'palme_revenir', 'installer_confortablement', 'ce_heure-ci', 'rachaella', 'sale_gosse', 'emouvant', 'zieuter', 'vraiment_chouette', 'hyde', \"patienter_jusqu'à\", 'plier_bagage', 'little_miss_sunshine', 'cétait', 'goldeneye', 'marc_lavoine', 'courru', 'efficacité_redoutable', 'benoît_poelvoorde', 'anthony_hopkins', 'regardable', 'humour_décaler', 'coup_ci', 'pari_risquer', 'gâcher_rien', 'dérider', 'avant-veille', 'terriblement_efficace', 'etonné', 'terrible_secret', 'hier_après_midi', 'morgan_freeman', 'dégotter', 'luthor', 'gent_masculin', 'beau_brochette', 'sémillant', 'se_esclaffer', 'empoignade', 'fébrilement', 'contre-temp', 'rigolard', 'soupirant', 'grimpette', 'aguicheur', 'elie_semoun', 'second_couteau', 'furia', 'faux-pas', 'main_event', 'oh_surprise', 'souffle_coupé', 'twister', 'congratuler', 'bellatrix', 'album_éponyme', 'intrigue_policier', 'espièglerie', 'pil_poil', 'vivement_demain', 'estomaquer', 'se_extasier_devant', 'fou-rire', 'repêchage', 'furieux_envie', 'mauvais_blague', 'justine_henin', 'chamboulement', 'extasier', 'vie_trépidant', 'chouquette', 'joyeux_luron', 'kate_winslet', 'fred_vargas', 'by_night', 'tablée', 'amplement_mériter', 'six_feet_under', 'faire_gris_mine', 'standing_ovation', 'suspence', 'annoncait', 'bouche_béer', 'tranquillou', 'succès_phénoménal', 'affrontement_final', 'éberluer', 'jared', 'passage_éclair', 'virevoltant', 'ébouriffant', 'incroyable_talent', 'bill_murray', 'whaou', 'gones', 'firefly', 'cold_case', 'mauvais_perdant', 'je-ne-sais-quoi', 'bilou', 'paprec-virbac', 'déchainé', 'séance_tenant', 'ocean_s', 'petit_zorro', 'prestation_scénique', 'annabel', 'gargantuesque', 'sprint_final', 'frigorifier', 'susie', 'tony_scott', 'batifoler', 'innatendu', 'nugget', 'vava', 'amuse-gueule', 'playoff', 'ahhhhh', 'rester_scotcher', 'décommander', 'pipole', 'sauter_partout', 'illico_presto', 'jour-même', 'afficionado', 'magie_opérer', 'boudeur', 'patrick_sébastien', 'comédie_sentimental', 'dispensable', 'île_paradisiaque', 'arcade_fire', 'soirée_inoubliable', 'tonitruer', 'congratulation', 'pipelet', 'scary_movie', 'néamoins', 'kad_merad', 'clooney', 'chamallow', 'impressioné', 'floppée', 'comme_dab', 'american_pie', 'vieux_briscard', 'déflorer', 'guy_forget', 'branlée', 'tambour_battant', 'inexplicablement', 'abracadabrant', 'belle-maman', 'joyeux_drille', 'septième_ciel', 'hans_zimmer', 'essouflé', 'exclusivité_mondial', 'annoncant', 'arty', 'désagréable_surprise', 'admirez', 'mitsuko', 'décue', 'titre_éponyme', 'michael_douglas', 'drôlement_bien', 'falloir_patienter', 'brett', 'vraiment_hâter', 'bourriche', 'souvenir_émouvoir', 'supris', 'josh_hartnett', 'charme_fou', 'assez_décevant', 'mener_tambour_battant', 'bloguesque', 'mini_album', 'gentil_garçon', 'ouille', 'doux_folie', 'courgette_farcir', 'minois', 'thoane', 'rumeur_courir', 'quel_régal', 'rosewall', 'yeux_écarquiller', 'entrapercevoir', 'situation_cocasse', 'eva_green', 'bizarroïde', 'folie_doux', 'paul-henri_mathieu', 'waow', 'happy_feet', 'gâterie', 'kylie', 'andré_dussolier', 'chalouper', 'distraitement', 'promettre_jurer', 'trop_bavard', 'pétard_mouiller', 'premiére_fois', 'fritzlangueur', 'gremlin', 'nez_dehors', 'eddie_murphy', 'intriguant', 'joyeux_bande', 'page_accueil_mv', 'chouilla', 'roger_lemerre', 'chaleur_étouffant', 'anthologique', 'temps_maussade', 'spectacle_grandiose', 'nöel', 'fanfaronner', 'ugly_betty', 'gôut', 'recommander_chaudement', 'maigre_consolation', 'va-tout', 'très_sympatique', 'prince-prince', 'gros_frayeur', 'casse-gueule', 'cucul', 'seul_consolation', 'happy_few', 'planquer_derrière', 'mizuki', 'ô_surprise', 'horripilant', 'sex_and_the_city', 'hochement', 'mini-album', 'noir_vêtir', 'complètement_rater', 'deux_tourtereaux', 'accoutumé', 'complètement_déjanter', 'décor_somptueux', 'bungie', 'me_tomber_dessus', 'arrivée_imminent', 'hors-pair', 'me_titiller', 'salma_hayek', 'enième', 'soldat_rose', 'entrée_fracassant', 'mass_effect', 'sekondi', 'alorsâ\\xa0¦', 'ladurée', 'hercule_poirot', 'joli_demoiselle', 'humour_décapant', 'première_vrai', 'alan_rickman', 'place_qualificatif', 'pom-pom_girl', 'franz_ferdinand', 'mickey_rourke', 'soyon_fou', 'mélanie_laurent', 'cliffhanger', 'petit_pincement', 'ensorcelant', 'mollasson', 'brrrr', 'hugh_jackman', 'indéboulonnable', 'nalbandian', 'indétrônable', 'nominée', 'alizé_cornet', 'se_ennuyer_ferme', 'visage_souriant', 'sourire_amuser', 'série_heroes', 'dégoutée', 'gnangnan', 'méthode_cauet', 'affriolant', 'sanae', 'sans_trucage', 'suprenant', 'oeillade', 'sourrire', 'kobe_bryant', 'julo', 'petit_veinard', 'chaque_recoin', 'émécher', 'espèrons', 'fan_absolu', 'nona', 'charmant_demoiselle', 'michael_caine', 'guest-star', 'désappointement', 'pole_position', 'ceci-dit', 'kamel_ouali', 'quatrième_opus', 'fan_inconditionnel', 'gros_claque', 'lex_luthor', 'simplement_sublime', 'becky', 'foisâ\\xa0¦', 'bon_présage', 'ambiance_sombre', 'scénette', 'diaboliquement', 'folichon', 'riquiqui', 'world_tour', 'triangle_amoureux', 'jean-mi', 'vraiment_attachant', 'foot-interview', 'match_décaler', 'haruhi', 'patoche', 'reconcentrer', 'dursley', 'pancho', 'thriller_psychologique', 'epoustouflant', 'bronca', 'fouilli', 'faillir_tomber', 'rush_hour', 'jormungandr', 'coup_fourrer', 'duettiste', 'joaquin_phoenix', 'se_égosiller', 'plutot_sympa', 'vieux_pote', 'blanc_vêtir', 'essayer_désespérément', 'préfèré', 'enjôleur', 'old_trafford', 'tripotée', 'catherine_ringer', 'ruer_vers', \"sourire_jusqu'aux_oreille\", 'multiple_rebondissement', 'trois_compère', 'pétaradant', 'aguichant', 'stadiste', 'kimberly', 'impatiemment', 'lions_indomptables', 'rondouillard', 'renfrogner', 'sensation_étrange', 'songwriter', 'yeux_bleux', 'micromania', 'turok', 'poelvoorde', 'monsieur_bean', 'caillou_blanc', 'hairspray', 'cafouiller', 'sublimissime', 'dérobée', 'jeu-là', 'joli_minois', 'forest_whitaker', 'love_story', 'déjeûner', 'happy_days', 'crânement', 'bluette', 'complètement_décaler', 'sourire_narquois', 'halala', 'pantois', 'scolari', 'inquiètant', 'sans_dessus_dessous', 'train-train_quotidien', 'réveillonner', 'tim_roth', 'kubica', 'personnage_atypique', 'flippant', 'suivre_super_content', 'jugnot', 'monop', 'pêchu', 'rachel_weisz', 'beau_journée_ensoleiller', 'brillantissime', 'déconne', 'confidential', 'strip_teas', 'weasley', 'studio_pixar', 'tir_grouper', 'ô_miracle', 'zach_braff', 'pataquès', 'lost_saison', 'pré-au-lard', 'hyper_sympa', 'désappointer', 'irrésistible_envie', 'passer_sans_encombre', 'taquinerie', 'rougissant', 'production_hollywoodien', 'gros_écurie', 'jovialité', 'coulthard', 'gondry', 'dénouement_final', 'finaud', 'très_agréablement_surprendre', 'ouvreuse', 'foutrement', 'assez_désagréable', 'fadasse', 'pouponner', 'plat_couture', 'jankovic', 'yeux_pétillant', 'scrapper', 'yeux_émerveiller', 'quasi_inconnu', 'petit_bouille', 'tourtereaux', 'assez_rigolo', 'égailler', 'shônen', 'par_stéphane_maurel', 'ressortie', 'oufff', 'raffut', 'plutôt_décevant', 'ô_joie', 'chez_quick', 'rester_invaincu', 'saint-moritz', 'claude_onesta', 'the_gathering', 'expert_manhattan', 'trio_infernal', 'soderbergh', 'oooooh', 'therion', 'pomponner', 'surpris', 'pochette_surprise', 'travolta', 'véritable_régal', 'clicnapping', 'jennifer_garner', 'coffret_collector', 'foutraque', 'mortal_kombat', 'sympathiquement', 'peu_engageant', 'soirée_mémorable', 'créature_étrange', 'tobey_maguire', 'assez_déroutant', 'amoureux_transi', 'petit_virée', 'pince-sans-rire', 'totalement_inattendu', 'marianne_james', 'wisteria_lane', 'snobé', 'peu_bavard', 'troisième_larron', 'choupette', 'the_host', 'fêter_halloween', 'personnage_charismatique', 'invaincu_depuis', 'absolument_fabuleux', 'dormir_paisiblement', 'scotcher_devant', 'longuement_hésiter', 'mine_réjouir', 'loufoquerie', 'mary_poppins', 'assomé', 'sourire_radieux', 'complètement_dingue', 'gloussement', 'intense_émotion', 'didier_bourdon', 'trêve_estival', 'pur_régal', 'luiâ\\xa0¦', 'rockstar_games', 'ton_décaler', 'regard_complice', 'dvd_collector', 'dépatouiller', 'minauder', 'thom_yorke', 'frétillant', 'love_actually', 'the_rock', 'françois_pignon', 'striptease', 'totalement_ridicule', 'crispant', 'lasser_vite', 'manquer_terriblement', 'rattrappé', 'reese_witherspoon', 'soir-même', 'quelque_raté', 'ventre_rond', \"patienter_jusqu'au\", 'vite_déchanter', 'plutôt_marrant', 'jumanji', 'oh_miracle', 'ryan_gosling', 'présence_scénique', 'milla_jovovich', 'totalement_décaler', 'accolyte', 'lit_douillet', 'patrick_dempsey', 'pichenette', 'ashton_kutcher', 'groggy', 'hayden_panettiere', 'pétulant', 'charnière_central', 'bloodsport', 'professeur_rogue', 'ce_trois-là', 'recroiser', 'felicity', 'toqué', 'particulièrement_savoureux', 'runaway', 'youzhny', 'rentrer_bredouille', 'dereck', 'sourire_malicieux', 'affectionner_tant', 'pénélope_jolicoeur', 'exité', 'janne_ahonen', 'frisson_garantir', 'raout', 'pom_pom_girl', 'envoyer_valser', 'californication', 'musclor', 'rien_nada', 'petit_gastronome', 'elfman', 'dragon_quest', 'cluedo', 'baki', 'ana_ivanovic', 'bon_bouille', 'dreamland', 'speedé', 'master_chief', 'hannah_montana', 'patatra', 'patience_patience', 'esgourde', 'déconfire', 'hin_hin', 'shaun_of_the_dead', 'mi-figu_mi-raisin', 'se_ennuit', 'bellagio', 'décoiffant', 'ewan', 'volte_face', 'outre_tombe', 'pisser_dessus', 'artiste_talentueux', 'faire_faux_bond', 'champomy', 'énormissime', 'série_lost', 'laurent_lucas', 'assez_mitiger', 'assez_plaisant', 'ambiance_survolter', 'janne', 'décallé', 'piquer_niquer', 'show_téléviser', 'courir_cll', 'complètement_barrer', 'rouste', 'inatendu', 'starting_blocks', 'clément_poitrenaud', 'fabuleusement', 'foule_compact', 'sourire_éclatant', 'vous_êtiez', 'nrj_music_award', 'droopy', 'x_men', 'granny', 'space_mountain', 'noceur', 'dj_zebra', 'happy-end', 'ploum', 'sam_fisher', 'madameni', 'soirée_arroser', 'tapant', 'sublimement', 'king_of', 'guess_who', 'rire_nerveux', 'ambiance_glauque', 'gendre_idéal', 'spectacle_inoubliable', 'rockeuse', 'flavie_flament', 'pompoko', 'presque_irréel', 'moment_fatidique', 'narcissa', 'lève-tôt', 'beau_blonde', 'ralf_schumacher', 'newcombe', 'mélange_détonner', 'lovely_complex', 'envie_irrésistible', 'gunfight', 'blair_witch', 'unplugged', 'troisième_quart-temp', 'premier_quart-temp', 'conaissait', 'préparer_psychologiquement', 'surprendre_agréablement', 'stevie', 'repartir_bredouille', 'pretty_woman', 'old_boy', 'emballant', 'piler_poil', 'portable_sonner', 'crâner', 'verdict_tomber', 'gérard_houiller', 'pile_poil', 'ouahou', 'french_kiss', 'tripant', 'impréssionnant', 'journée_mémorable', 'catherine_jacob', 'absolument_délicieux', 'nastase', 'cocktail_détonner', 'joyeux_bordel', 'reconnaitront', 'talent_culinaire', 'scène_gore', 'ally_mcbeal', 'janet_jackson', 'aventure_rocambolesque', 'plan-plan', 'survêt', 'exitation', 'gasol', 'craquante', 'alpaguer', 'xmen', 'ciller', 'anecdote_amusant', 'bodyguard', 'renée_zellweger', 'moisâ\\xa0¦', 'pur_délire', 'passer_totalement_inaperçu', 'humour_absurde', 'heure_fatidique', 'assez_impressionant', 'johan_petro', 'léchouille', 'inspecteur_gadget', 'petter', 'univers_décaler', 'aventure_épique', 'musique_entraînant', 'moulte', 'tranquilou', 'goûtu', 'parraissait', 'pétante', 'revenir_bredouille', 'orage_éclater', 'smurf', 'envoutante', 'délicieux_repas', 'se_arrêter_brusquement', 'plan_machiavélique', 'mamounette', 'écrasant_victoire', 'époustoufflant', 'elleâ\\xa0¦', 'sourire_niais', 'rondement', 'vieux_bonhomme', 'enchainent', 'joyeux_troupe', 'duo_comique', 'guingoi', 'booboo', 'grrrrrrr', 'folklo', 'nicolas_duvauchelle', 'gout_amer', 'kevin_garnett', 'guts', 'jack_black', 'chat_potté', 'baratineur', 'aventure_palpitant', 'plutôt_mitiger', 'spéctacle', 'sourire_crisper', 'détonnant', 'anecdote_croustillant', 'season_final', 'rhaaaa', 'sourire_moqueur', 'clôre', 'kostelic', 'warm_up', 'ambiance_intimiste', 'gros_riff', 'chocotte', 'moults', 'figurer_-toi', 'soirée_vip', 'in_love', 'sauterie', 'harold_crick', 'béca', 'peu_loquace', 'comeback', 'virée_nocturne', 'goupiller', 'absolument_sublime', 'smarties', 'magnifiquement_interpréter', 'nymphette', 'quelque_emplette', 'personnage_pittoresque', 'ennui_mortel', 'avis_mitiger', 'alice_cooper', 'trame_scénaristique', 'rétamer', 'tip-top', 'avant-hier_soir', 'planet_terror', 'kinder_surprise', 'mark_ruffalo', 'antoine_kombouaré', 'jean_claude_van_damme', 'dernier_quart-temp', 'trembloter', 'utena', 'incroyable_destin', 'catherine_zeta-jones', 'françois_trinh-duc', 'paris_by_night', 'flingueur', 'birdy', 'rumeur_enfler', 'par_antonie_moulières', 'michael_clayton', 'totalement_déjanter', 'gueuleton', 'question_embarrassant', 'cachotterie', 'looké', 'giants', 'lover_story', 'pétant', 'sentiment_mitiger', 'mortensen', 'énorme_déception', 'zazon', 'balade_nocturne', 'colin_firth', 'diné', 'square-enix', 'zénitude', 'brainstorm', 'scato', 'inoui', 'impresionnant', 'superbement_réaliser', 'bad_boys', 'flashmob', 'répet', 'klinsmann', 'shia_labeouf', 'killzone', 'filmé', 'personnage_fétiche', \"jusqu'au_dénouement\", 'comptoir_stéphane', \"jusqu'au_lendemain_matin\", 'extase_devant', 'disco-', 'austin_powers', 'kudo', 'manger_tranquillement', 'pâle_figure', 'nick_park', 'pussy', 'setlist', 'fous-rire', 'électrisant', 'attendai', 'chez_drucker', 'reira', 'mélanie_doutey', 'kate_beckinsale', 'sans_déplaisir', 'fou_rire_garantir', 'jeff_bridges', 'vraiment_impressionant', 'interprêtation', 'set_list', 'inside_man', 'topine', 'désopiler', 'littérallement', 'illustre_inconnu', 'pushing_daisies', 'fantastiquement', 'sold_out', 'spéctaculaire', 'râter', 'pénaltie', 'kitsh', 'luna_lovegood', 'carotte_tarte', 'ivan_ljubicic', 'narumi', 'phoenix_wright', 'ressembler_vaguement', 'impression_mitiger', 'of_lover', 'will_ferrell', 'mine_déconfire', 'nathalie_portman', 'jouissive', 'christina_ricci', 'chaudron_baveur', 'ce_samedi-là', 'calme_olympien', 'coco_gâteau', 'complètement_délirant', 'marcos_baghdatis', 'seconde_chrono', 'ashe', 'sublissime', 'immense_déception', 'mère_indigne', 'kyuuden', 'pikmin', 'murmurer_-t-il', 'erreur_défensif', 'rhaa', 'tilter', 'chez_cauet']\n"
     ]
    }
   ],
   "source": [
    "print(model.closer_than(\"surprise\", \"anniversaire\"))"
   ]
  },
  {
   "cell_type": "code",
   "execution_count": 85,
   "id": "f6061785-fa34-4c2c-b69c-8b16f4a500c0",
   "metadata": {},
   "outputs": [],
   "source": [
    "import time"
   ]
  },
  {
   "cell_type": "code",
   "execution_count": 87,
   "id": "0e8ae2c3-6469-4f65-81bd-dfa482a47013",
   "metadata": {
    "tags": []
   },
   "outputs": [
    {
     "name": "stdout",
     "output_type": "stream",
     "text": [
      "{'num': 245, 'percentile': 472, 'score': 0.2795, 'solvers': 4077}\n",
      "{'num': 245, 'percentile': 969, 'score': 0.4022, 'solvers': 4077}\n",
      "{'num': 245, 'percentile': 865, 'score': 0.3438, 'solvers': 4077}\n",
      "{'num': 245, 'percentile': 950, 'score': 0.3836, 'solvers': 4077}\n",
      "{'error': 'Je ne connais pas le mot <i>lui</i>.', 'num': 245, 'solvers': 4077}\n"
     ]
    },
    {
     "ename": "KeyError",
     "evalue": "'score'",
     "output_type": "error",
     "traceback": [
      "\u001b[0;31m---------------------------------------------------------------------------\u001b[0m",
      "\u001b[0;31mKeyError\u001b[0m                                  Traceback (most recent call last)",
      "Cell \u001b[0;32mIn [87], line 12\u001b[0m\n\u001b[1;32m     10\u001b[0m     time\u001b[38;5;241m.\u001b[39msleep(\u001b[38;5;241m0.05\u001b[39m)\n\u001b[1;32m     11\u001b[0m     \u001b[38;5;28mprint\u001b[39m(r\u001b[38;5;241m.\u001b[39mjson())\n\u001b[0;32m---> 12\u001b[0m     score\u001b[38;5;241m.\u001b[39mappend(\u001b[43mr\u001b[49m\u001b[38;5;241;43m.\u001b[39;49m\u001b[43mjson\u001b[49m\u001b[43m(\u001b[49m\u001b[43m)\u001b[49m\u001b[43m[\u001b[49m\u001b[38;5;124;43m\"\u001b[39;49m\u001b[38;5;124;43mscore\u001b[39;49m\u001b[38;5;124;43m\"\u001b[39;49m\u001b[43m]\u001b[49m)\n\u001b[1;32m     14\u001b[0m \u001b[38;5;28mprint\u001b[39m(\u001b[38;5;28mmax\u001b[39m(score))\n",
      "\u001b[0;31mKeyError\u001b[0m: 'score'"
     ]
    }
   ],
   "source": [
    "score = []\n",
    "for mot in model.closer_than(\"surprise\", \"anniversaire\"):\n",
    "    r = requests.post(\n",
    "    'https://cemantix.certitudes.org/score',\n",
    "    headers= {\n",
    "        'Content-Type': 'application/x-www-form-urlencoded',\n",
    "        'origin': 'https://cemantix.certitudes.org'\n",
    "    },\n",
    "    data=f\"word={mot}\")\n",
    "    time.sleep(0.05)\n",
    "    if r.status\n",
    "    print(r.json())\n",
    "    score.append(r.json()[\"score\"])\n",
    "\n",
    "print(max(score))"
   ]
  },
  {
   "cell_type": "code",
   "execution_count": 38,
   "id": "20d51d1f-a63e-4855-8a4a-bb799ab534d4",
   "metadata": {},
   "outputs": [
    {
     "data": {
      "text/plain": [
       "[('smic', 0.707688570022583),\n",
       " ('rémunération', 0.698284387588501),\n",
       " ('salarial', 0.6625236868858337),\n",
       " ('salaire_net', 0.6450946927070618),\n",
       " ('salaire_mensuel', 0.6443508863449097),\n",
       " ('smig', 0.6387794017791748),\n",
       " ('augmentation_salarial', 0.6207861304283142),\n",
       " ('salaire_minimum', 0.6120266914367676),\n",
       " ('salaire_horaire', 0.6102156043052673),\n",
       " ('revenu', 0.5946819186210632)]"
      ]
     },
     "execution_count": 38,
     "metadata": {},
     "output_type": "execute_result"
    }
   ],
   "source": [
    "result"
   ]
  },
  {
   "cell_type": "code",
   "execution_count": 56,
   "id": "5abed6fd-cfcf-406e-9950-25e7ca16b0a9",
   "metadata": {},
   "outputs": [],
   "source": [
    "first_guess = \"salaire\"\n",
    "\n",
    "r = requests.post('https://cemantix.certitudes.org/score', headers= {'Content-Type': 'application/x-www-form-urlencoded'}, data=f\"word={first_guess}\")"
   ]
  },
  {
   "cell_type": "code",
   "execution_count": 57,
   "id": "53530c4c-f680-4b3b-8345-34c74e91828e",
   "metadata": {},
   "outputs": [
    {
     "data": {
      "text/plain": [
       "{'num': 244, 'score': 0.1471, 'solvers': 5443}"
      ]
     },
     "execution_count": 57,
     "metadata": {},
     "output_type": "execute_result"
    }
   ],
   "source": [
    "r.json()"
   ]
  },
  {
   "cell_type": "code",
   "execution_count": 76,
   "id": "965eb79f-9360-4d7e-9bd6-ef0b28eebe28",
   "metadata": {},
   "outputs": [],
   "source": [
    "first_guess = \"surprise\"\n",
    "\n",
    "r = requests.post(\n",
    "    'https://cemantix.certitudes.org/score',\n",
    "    headers= {\n",
    "        'Content-Type': 'application/x-www-form-urlencoded',\n",
    "        'origin': 'https://cemantix.certitudes.org'\n",
    "    },\n",
    "    data=f\"word={first_guess}\")"
   ]
  },
  {
   "cell_type": "code",
   "execution_count": 77,
   "id": "f32f2fac-39c9-4e8c-b87c-c4a9a77003a3",
   "metadata": {},
   "outputs": [
    {
     "name": "stdout",
     "output_type": "stream",
     "text": [
      "{'num': 245, 'percentile': 413, 'score': 0.274, 'solvers': 3933} 0.199703\n"
     ]
    }
   ],
   "source": [
    "print(r.json(), r.elapsed.total_seconds())"
   ]
  },
  {
   "cell_type": "code",
   "execution_count": 67,
   "id": "62c79ca8-3820-4fec-8f1d-e20fe51b1925",
   "metadata": {},
   "outputs": [
    {
     "name": "stdout",
     "output_type": "stream",
     "text": [
      "1.005576\n"
     ]
    }
   ],
   "source": [
    "print()"
   ]
  },
  {
   "cell_type": "code",
   "execution_count": 64,
   "id": "a542215c-6e8e-40dc-b8ce-08aa022a39b8",
   "metadata": {},
   "outputs": [
    {
     "data": {
      "text/plain": [
       "[('bras', 0.5860161781311035),\n",
       " ('épaule', 0.567866861820221),\n",
       " ('jambe', 0.5652951598167419),\n",
       " ('derrière', 0.555732250213623),\n",
       " ('cou', 0.5461982488632202),\n",
       " ('queue', 0.5438122749328613),\n",
       " ('nuque', 0.539554238319397),\n",
       " ('tete', 0.5290238857269287),\n",
       " ('ventre', 0.5204991102218628),\n",
       " ('poitrine', 0.5157816410064697),\n",
       " ('dos', 0.5110870599746704),\n",
       " ('crâne', 0.5046539306640625),\n",
       " ('patte', 0.5001229643821716),\n",
       " ('yeux', 0.49467942118644714),\n",
       " ('lâcher', 0.48316752910614014),\n",
       " ('pied', 0.4818964898586273),\n",
       " ('claque', 0.4803328514099121),\n",
       " ('sourire', 0.4782516658306122),\n",
       " ('soudain', 0.4763225018978119),\n",
       " ('accrocher', 0.4740220308303833),\n",
       " ('doucement', 0.47354137897491455),\n",
       " ('piquer', 0.47223860025405884),\n",
       " ('attraper', 0.4717377722263336),\n",
       " ('trembler', 0.47078579664230347),\n",
       " ('regarder', 0.4692847728729248)]"
      ]
     },
     "execution_count": 64,
     "metadata": {},
     "output_type": "execute_result"
    }
   ],
   "source": [
    "model.most_similar(\"tête\", topn=25, restrict_vocab=15000)"
   ]
  },
  {
   "cell_type": "code",
   "execution_count": null,
   "id": "ca9d595b-4e6d-4099-b47b-0a1acb04020e",
   "metadata": {},
   "outputs": [],
   "source": []
  }
 ],
 "metadata": {
  "kernelspec": {
   "display_name": "Python 3 (ipykernel)",
   "language": "python",
   "name": "python3"
  },
  "language_info": {
   "codemirror_mode": {
    "name": "ipython",
    "version": 3
   },
   "file_extension": ".py",
   "mimetype": "text/x-python",
   "name": "python",
   "nbconvert_exporter": "python",
   "pygments_lexer": "ipython3",
   "version": "3.10.6"
  }
 },
 "nbformat": 4,
 "nbformat_minor": 5
}
